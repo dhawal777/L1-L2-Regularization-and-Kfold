{
 "cells": [
  {
   "cell_type": "code",
   "execution_count": 1,
   "metadata": {},
   "outputs": [],
   "source": [
    "import numpy as np\n",
    "import pandas as pd\n",
    "from sklearn.preprocessing import LabelEncoder,OneHotEncoder\n",
    "import sklearn as sk\n",
    "from sklearn.model_selection import train_test_split\n",
    "from sklearn.metrics import r2_score,mean_squared_error,mean_absolute_error\n",
    "from pylab import *\n",
    "import matplotlib\n",
    "import matplotlib.pyplot as plt\n",
    "import copy"
   ]
  },
  {
   "cell_type": "code",
   "execution_count": 2,
   "metadata": {},
   "outputs": [],
   "source": [
    "df=pd.read_csv(\"AdmissionDataset/data.csv\")\n",
    "df\n",
    "X =df.drop(['Chance of Admit ','Serial No.'],axis=1)\n",
    "y=df['Chance of Admit ']\n"
   ]
  },
  {
   "cell_type": "markdown",
   "metadata": {},
   "source": [
    "*Standardizing consists in subtracting the mean and dividing by the standard deviation.*\n",
    "*The convention that you standardize predictions primarily exists so that the units of the regression coefficients are the same.*\n",
    "*when value are largely diffrent one is population and some other attribute is fraction*"
   ]
  },
  {
   "cell_type": "code",
   "execution_count": 3,
   "metadata": {},
   "outputs": [],
   "source": [
    "X = (X - X.mean())/X.std()#normalize the data(z-mu)/(sigma)\n",
    "# y=(y-y.mean())/y.std()\n",
    "#kyuki actual y ke paas pahuchna hai isliye ,jhe y ko normalize karne ka koi reason nahi lag raha"
   ]
  },
  {
   "cell_type": "code",
   "execution_count": 4,
   "metadata": {},
   "outputs": [],
   "source": [
    "X_train, X_test, y_train, y_test = train_test_split(X, y, test_size=0.2)\n",
    "features=['GRE Score','TOEFL Score','University Rating','SOP','LOR ','CGPA','Research']\n",
    "my_data=pd.concat([X_train,y_train],axis=1)"
   ]
  },
  {
   "cell_type": "code",
   "execution_count": 5,
   "metadata": {},
   "outputs": [],
   "source": [
    "X=X_train"
   ]
  },
  {
   "cell_type": "code",
   "execution_count": 6,
   "metadata": {},
   "outputs": [],
   "source": [
    "ones = np.ones([X.shape[0],1])\n"
   ]
  },
  {
   "cell_type": "code",
   "execution_count": 7,
   "metadata": {},
   "outputs": [],
   "source": [
    "X = np.concatenate((ones,X),axis=1)\n"
   ]
  },
  {
   "cell_type": "markdown",
   "metadata": {},
   "source": [
    "*values converts it from pandas.core.frame.DataFrame to numpy.ndarray*"
   ]
  },
  {
   "cell_type": "code",
   "execution_count": 8,
   "metadata": {},
   "outputs": [],
   "source": [
    "y\n",
    "y=pd.DataFrame(y_train)\n",
    "y=y.values"
   ]
  },
  {
   "cell_type": "markdown",
   "metadata": {},
   "source": [
    "*basically assumed m=0 and c=0 for each independent variable intially*"
   ]
  },
  {
   "cell_type": "markdown",
   "metadata": {},
   "source": [
    "*learning rate needed along with direction*"
   ]
  },
  {
   "cell_type": "code",
   "execution_count": 9,
   "metadata": {},
   "outputs": [],
   "source": [
    "alpha = 0.01"
   ]
  },
  {
   "cell_type": "code",
   "execution_count": 10,
   "metadata": {},
   "outputs": [],
   "source": [
    "def meanSquareError(y_true, y_pred): \n",
    "    y_true, y_pred = np.array(y_true), np.array(y_pred)\n",
    "    return np.mean(np.square((y_true - y_pred)))"
   ]
  },
  {
   "cell_type": "markdown",
   "metadata": {},
   "source": [
    "*no of times we have to iterate to minimize rms*"
   ]
  },
  {
   "cell_type": "code",
   "execution_count": 11,
   "metadata": {},
   "outputs": [],
   "source": [
    "iters = 1000\n",
    "lamda=1000\n",
    "itr=0\n",
    "lam=[]\n",
    "error_list=[]\n",
    "cost=[]"
   ]
  },
  {
   "cell_type": "code",
   "execution_count": 12,
   "metadata": {},
   "outputs": [],
   "source": [
    "def gradientDescent(X,y,theta,iters,alpha,lamda):\n",
    "    for i in range(iters):\n",
    "        theta1=copy.deepcopy(theta)\n",
    "        theta1[0][0]=0\n",
    "        theta = theta - (alpha/len(X)) * (np.sum(X * (X @ theta.T - y), axis=0)+(theta1*lamda))\n",
    "    return theta"
   ]
  },
  {
   "cell_type": "markdown",
   "metadata": {},
   "source": [
    "*Calculated Theta List*"
   ]
  },
  {
   "cell_type": "code",
   "execution_count": 13,
   "metadata": {
    "scrolled": true
   },
   "outputs": [
    {
     "name": "stdout",
     "output_type": "stream",
     "text": [
      "Predicted Probability Fold: 0\n",
      "0.0038589710409119684\n",
      "Predicted Probability Fold: 1\n",
      "0.004430384800780388\n",
      "Predicted Probability Fold: 2\n",
      "0.0022732398822405964\n",
      "Predicted Probability Fold: 3\n",
      "0.003128815608583012\n",
      "Predicted Probability Fold: 4\n",
      "0.004911073008475681\n",
      "Predicted Probability Fold: 5\n",
      "0.003219790390390637\n"
     ]
    }
   ],
   "source": [
    "k=6\n",
    "sum=0\n",
    "for i in range(k):\n",
    "    theta = np.zeros([1,8])\n",
    "    alpha = 0.01\n",
    "    iters = 1000\n",
    "    \n",
    "    temp=[]\n",
    "    for i1 in range(i*60,(i+1)*60):\n",
    "        temp.append(i1)\n",
    "    \n",
    "    X_train1= my_data.drop(my_data.index[temp])\n",
    "    \n",
    "    X_test1= my_data.iloc[i*60:(i+1)*60,0:7]\n",
    "    y_test1= my_data.iloc[i*60:(i+1)*60,-1]\n",
    "    X = X_train1.iloc[:,0:7]\n",
    "    ones = np.ones([X.shape[0],1])\n",
    "    X = np.concatenate((ones,X),axis=1)\n",
    "    ylist = X_train1.iloc[:,7:8].values\n",
    "   \n",
    "    \n",
    "    g = gradientDescent(X,ylist,theta,iters,alpha,1e-13)\n",
    "    betaList=g[0]\n",
    "    y_pred1=[]\n",
    "    ones=np.ones([X_test1.shape[0],1])\n",
    "    X_tr2 = np.concatenate((ones,X_test1),axis=1)\n",
    "    y_pred1=X_tr2@betaList\n",
    "\n",
    "    print (\"Predicted Probability Fold:\",i)\n",
    "    print (np.mean(np.square(y_pred1-y_test1)))\n",
    "    sum=sum+(np.mean(np.square(y_pred1-y_test1)))\n",
    "#     i1=i1+1\n"
   ]
  },
  {
   "cell_type": "code",
   "execution_count": 16,
   "metadata": {},
   "outputs": [
    {
     "name": "stdout",
     "output_type": "stream",
     "text": [
      "mean_error K fold with k 6: 0.003637045788563714\n"
     ]
    }
   ],
   "source": [
    "print(\"mean_error K fold with k 6:\",sum/6)"
   ]
  }
 ],
 "metadata": {
  "kernelspec": {
   "display_name": "Python 3",
   "language": "python",
   "name": "python3"
  },
  "language_info": {
   "codemirror_mode": {
    "name": "ipython",
    "version": 3
   },
   "file_extension": ".py",
   "mimetype": "text/x-python",
   "name": "python",
   "nbconvert_exporter": "python",
   "pygments_lexer": "ipython3",
   "version": "3.6.7"
  }
 },
 "nbformat": 4,
 "nbformat_minor": 2
}
