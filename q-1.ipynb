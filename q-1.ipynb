{
 "cells": [
  {
   "cell_type": "code",
   "execution_count": 1,
   "metadata": {},
   "outputs": [],
   "source": [
    "import numpy as np\n",
    "import pandas as pd\n",
    "from sklearn.preprocessing import LabelEncoder,OneHotEncoder\n",
    "import sklearn as sk\n",
    "from sklearn.model_selection import train_test_split\n",
    "from sklearn.metrics import r2_score,mean_squared_error,mean_absolute_error\n",
    "from pylab import *\n",
    "import matplotlib\n",
    "import matplotlib.pyplot as plt\n",
    "from sklearn.linear_model import Lasso\n",
    "import copy\n",
    "# from sklearn.utils import check_arrays"
   ]
  },
  {
   "cell_type": "code",
   "execution_count": 2,
   "metadata": {},
   "outputs": [],
   "source": [
    "df=pd.read_csv(\"AdmissionDataset/data.csv\")\n",
    "df\n",
    "X =df.drop(['Chance of Admit ','Serial No.'],axis=1)\n",
    "y=df['Chance of Admit ']\n"
   ]
  },
  {
   "cell_type": "markdown",
   "metadata": {},
   "source": [
    "*Standardizing consists in subtracting the mean and dividing by the standard deviation.*\n",
    "*The convention that you standardize predictions primarily exists so that the units of the regression coefficients are the same.*\n",
    "*when value are largely diffrent one is population and some other attribute is fraction*"
   ]
  },
  {
   "cell_type": "code",
   "execution_count": 3,
   "metadata": {},
   "outputs": [],
   "source": [
    "X = (X - X.mean())/X.std()#normalize the data(z-mu)/(sigma)\n",
    "# y=(y-y.mean())/y.std()\n",
    "#kyuki actual y ke paas pahuchna hai isliye ,jhe y ko normalize karne ka koi reason nahi lag raha"
   ]
  },
  {
   "cell_type": "code",
   "execution_count": 4,
   "metadata": {},
   "outputs": [],
   "source": [
    "X_train, X_test, y_train, y_test = train_test_split(X, y, test_size=0.2)\n",
    "features=['GRE Score','TOEFL Score','University Rating','SOP','LOR ','CGPA','Research']\n",
    "my_data=pd.concat([X_train,y_train],axis=1)"
   ]
  },
  {
   "cell_type": "code",
   "execution_count": null,
   "metadata": {},
   "outputs": [],
   "source": []
  },
  {
   "cell_type": "code",
   "execution_count": 5,
   "metadata": {},
   "outputs": [],
   "source": [
    "X=X_train"
   ]
  },
  {
   "cell_type": "code",
   "execution_count": 6,
   "metadata": {},
   "outputs": [],
   "source": [
    "ones = np.ones([X.shape[0],1])\n"
   ]
  },
  {
   "cell_type": "code",
   "execution_count": 7,
   "metadata": {},
   "outputs": [],
   "source": [
    "X = np.concatenate((ones,X),axis=1)\n"
   ]
  },
  {
   "cell_type": "markdown",
   "metadata": {},
   "source": [
    "*values converts it from pandas.core.frame.DataFrame to numpy.ndarray*"
   ]
  },
  {
   "cell_type": "code",
   "execution_count": 8,
   "metadata": {},
   "outputs": [],
   "source": [
    "y\n",
    "y=pd.DataFrame(y_train)\n",
    "y=y.values"
   ]
  },
  {
   "cell_type": "markdown",
   "metadata": {},
   "source": [
    "*basically assumed m=0 and c=0 for each independent variable intially*"
   ]
  },
  {
   "cell_type": "code",
   "execution_count": 9,
   "metadata": {},
   "outputs": [],
   "source": [
    "#set hyper parameters\n",
    "alpha = 0.00001"
   ]
  },
  {
   "cell_type": "code",
   "execution_count": 10,
   "metadata": {},
   "outputs": [],
   "source": [
    "def meanSquareError(y_true, y_pred): \n",
    "    y_true, y_pred = np.array(y_true), np.array(y_pred)\n",
    "    return np.mean(np.square((y_true - y_pred)))"
   ]
  },
  {
   "cell_type": "markdown",
   "metadata": {},
   "source": [
    "*no of times we have to iterate to minimize rms*"
   ]
  },
  {
   "cell_type": "code",
   "execution_count": 11,
   "metadata": {},
   "outputs": [],
   "source": [
    "iters = 1000000\n",
    "lamda=100\n",
    "itr=0\n",
    "\n",
    "cost=[]"
   ]
  },
  {
   "cell_type": "code",
   "execution_count": 12,
   "metadata": {},
   "outputs": [],
   "source": [
    "def gradientDescent(X,y,theta,iters,alpha,lamda):\n",
    "    for i in range(iters):\n",
    "        theta1=copy.deepcopy(theta)\n",
    "        theta1[0][0]=0\n",
    "        theta1=np.sign(theta1)\n",
    "#         for i in range(1,8):\n",
    "#             if theta1[]\n",
    "        theta = theta - (alpha/len(X)) * (np.sum(X * (X @ theta.T - y), axis=0)+(0.5*(theta1*lamda)))\n",
    "    return theta"
   ]
  },
  {
   "cell_type": "code",
   "execution_count": 13,
   "metadata": {},
   "outputs": [],
   "source": [
    "# X_train"
   ]
  },
  {
   "cell_type": "code",
   "execution_count": 14,
   "metadata": {},
   "outputs": [],
   "source": [
    "# X"
   ]
  },
  {
   "cell_type": "code",
   "execution_count": 15,
   "metadata": {},
   "outputs": [],
   "source": [
    "# lam=[.00001,.0001,.001,.01,.1,5,10,15,20,25,100000000500]\n",
    "lam=[]\n",
    "lamda=100000\n",
    "error_list=[]\n",
    "preverror=10000000000000\n",
    "ans=lamda\n",
    "flag=0\n",
    "prev=-1\n",
    "while lamda>0.0000001:\n",
    "    lam.append(lamda)\n",
    "    ridgereg = Lasso(alpha=lamda,max_iter=10000)\n",
    "    ridgereg.fit(X_train,y)\n",
    "    lamda=lamda/10\n",
    "    y_pred = ridgereg.predict(X_test)\n",
    "    error_list.append((1-r2_score(y_test, y_pred)))\n",
    "    \n",
    "    if (1-r2_score(y_test, y_pred)) < preverror:\n",
    "        ans=lamda*10\n",
    "#     prev=lamda\n",
    "    preverror=(1-r2_score(y_test, y_pred))"
   ]
  },
  {
   "cell_type": "code",
   "execution_count": 16,
   "metadata": {},
   "outputs": [
    {
     "name": "stdout",
     "output_type": "stream",
     "text": [
      "ans  1.0000000000000002e-07\n"
     ]
    }
   ],
   "source": [
    "print(\"ans \",ans)\n"
   ]
  },
  {
   "cell_type": "code",
   "execution_count": 17,
   "metadata": {
    "scrolled": true
   },
   "outputs": [
    {
     "name": "stdout",
     "output_type": "stream",
     "text": [
      "[100000, 10000.0, 1000.0, 100.0, 10.0, 1.0, 0.1, 0.01, 0.001, 0.0001, 1e-05, 1.0000000000000002e-06, 1.0000000000000002e-07]\n"
     ]
    },
    {
     "data": {
      "text/plain": [
       "Text(0.5, 1.0, 'Lamda vs Error')"
      ]
     },
     "execution_count": 17,
     "metadata": {},
     "output_type": "execute_result"
    },
    {
     "data": {
      "image/png": "[encoded data removed]",
      "text/plain": [
       "<Figure size 432x288 with 1 Axes>"
      ]
     },
     "metadata": {
      "needs_background": "light"
     },
     "output_type": "display_data"
    }
   ],
   "source": [
    "fig, ax = plt.subplots()\n",
    "print(lam)\n",
    "ax.plot(lam,error_list)\n",
    "ax.set_xlabel(\"Lamda\", fontsize=10)\n",
    "ax.set_ylabel(\"Error\", fontsize=10)\n",
    "ax.set_title('Lamda vs Error')"
   ]
  },
  {
   "cell_type": "code",
   "execution_count": 18,
   "metadata": {},
   "outputs": [
    {
     "data": {
      "text/plain": [
       "[1.0047401130604747,\n",
       " 1.0047401130604747,\n",
       " 1.0047401130604747,\n",
       " 1.0047401130604747,\n",
       " 1.0047401130604747,\n",
       " 1.0047401130604747,\n",
       " 0.7513004304541403,\n",
       " 0.17512398260842943,\n",
       " 0.15658607327333718,\n",
       " 0.15553043487490537,\n",
       " 0.1554307880064998,\n",
       " 0.15542131369762213,\n",
       " 0.1554204417757874]"
      ]
     },
     "execution_count": 18,
     "metadata": {},
     "output_type": "execute_result"
    }
   ],
   "source": [
    "error_list"
   ]
  },
  {
   "cell_type": "code",
   "execution_count": 19,
   "metadata": {
    "scrolled": true
   },
   "outputs": [
    {
     "name": "stdout",
     "output_type": "stream",
     "text": [
      "error  0.02163220250816287\n",
      "error  0.021255085945178435\n",
      "error  0.021199236028817126\n",
      "error  0.02119641955615298\n",
      "error  0.003846768781678424\n",
      "error  0.003232510102805594\n",
      "error  0.003203445448041954\n",
      "error  0.003200862594696751\n",
      "error  0.00320060754548356\n",
      "error  0.003200582072923675\n",
      "error  0.0032005795259910873\n",
      "error  0.003200579271301128\n"
     ]
    }
   ],
   "source": [
    "lamda=100000\n",
    "lam=[]\n",
    "# lam=[.00001,.0001,.001,.01,.1,5,10,15,20,25,500,1000,1200,1500,2000,2500,3000,3500]\n",
    "error_list=[]\n",
    "preverror=1000000000\n",
    "ans=lamda\n",
    "flag=0\n",
    "# prev=-1\n",
    "while lamda>0.000001:\n",
    "    theta = np.zeros([1,8])\n",
    "    lam.append(lamda)\n",
    "    g = gradientDescent(X,y,theta,iters,alpha,lamda)\n",
    "    lamda=lamda/10\n",
    "    betaList=g[0]\n",
    "    y_pred1=[]\n",
    "    ones=np.ones([X_test.shape[0],1])\n",
    "    X_tr2 = np.concatenate((ones,X_test),axis=1)\n",
    "    y_pred1=X_tr2@betaList\n",
    "    error_list.append((1-r2_score(y_test, y_pred1)))\n",
    "    \n",
    "    if (1-r2_score(y_test, y_pred1)) < preverror:\n",
    "        ans=lamda*10\n",
    "#     prev=lamda\n",
    "    preverror=(1-r2_score(y_test, y_pred1))\n",
    "    print(\"error \",meanSquareError(y_test, y_pred1))"
   ]
  },
  {
   "cell_type": "code",
   "execution_count": 20,
   "metadata": {},
   "outputs": [
    {
     "name": "stdout",
     "output_type": "stream",
     "text": [
      "ans  1.0000000000000002e-06\n",
      "[1.025390856357716, 1.0075151049024786, 1.004867755722772, 1.0047342517341742, 0.18234118942659405, 0.15322463356424498, 0.15184693606781186, 0.15172450589906306, 0.15171241627799792, 0.15171120884986, 0.15171108812237577, 0.15171107604978373]\n",
      "[100000, 10000.0, 1000.0, 100.0, 10.0, 1.0, 0.1, 0.01, 0.001, 0.0001, 1e-05, 1.0000000000000002e-06]\n"
     ]
    }
   ],
   "source": [
    "print(\"ans \",ans)\n",
    "print(error_list)\n",
    "print(lam)"
   ]
  },
  {
   "cell_type": "code",
   "execution_count": 21,
   "metadata": {},
   "outputs": [
    {
     "name": "stdout",
     "output_type": "stream",
     "text": [
      "[1.025390856357716, 1.0075151049024786, 1.004867755722772, 1.0047342517341742, 0.18234118942659405, 0.15322463356424498, 0.15184693606781186, 0.15172450589906306, 0.15171241627799792, 0.15171120884986, 0.15171108812237577, 0.15171107604978373]\n"
     ]
    },
    {
     "data": {
      "text/plain": [
       "Text(0.5, 1.0, 'Lamda vs Error')"
      ]
     },
     "execution_count": 21,
     "metadata": {},
     "output_type": "execute_result"
    },
    {
     "data": {
      "image/png": "[encoded data removed]",
      "text/plain": [
       "<Figure size 432x288 with 1 Axes>"
      ]
     },
     "metadata": {
      "needs_background": "light"
     },
     "output_type": "display_data"
    }
   ],
   "source": [
    "fig, ax = plt.subplots()\n",
    "print(error_list)\n",
    "# print(lam)\n",
    "ax.plot(lam,error_list)\n",
    "ax.set_xlabel(\"Lamda\", fontsize=10)\n",
    "ax.set_ylabel(\"Error\", fontsize=10)\n",
    "ax.set_title('Lamda vs Error')"
   ]
  },
  {
   "cell_type": "code",
   "execution_count": 22,
   "metadata": {
    "scrolled": true
   },
   "outputs": [
    {
     "data": {
      "text/plain": [
       "[1.025390856357716,\n",
       " 1.0075151049024786,\n",
       " 1.004867755722772,\n",
       " 1.0047342517341742,\n",
       " 0.18234118942659405,\n",
       " 0.15322463356424498,\n",
       " 0.15184693606781186,\n",
       " 0.15172450589906306,\n",
       " 0.15171241627799792,\n",
       " 0.15171120884986,\n",
       " 0.15171108812237577,\n",
       " 0.15171107604978373]"
      ]
     },
     "execution_count": 22,
     "metadata": {},
     "output_type": "execute_result"
    }
   ],
   "source": [
    "error_list"
   ]
  }
 ],
 "metadata": {
  "kernelspec": {
   "display_name": "Python 3",
   "language": "python",
   "name": "python3"
  },
  "language_info": {
   "codemirror_mode": {
    "name": "ipython",
    "version": 3
   },
   "file_extension": ".py",
   "mimetype": "text/x-python",
   "name": "python",
   "nbconvert_exporter": "python",
   "pygments_lexer": "ipython3",
   "version": "3.6.7"
  }
 },
 "nbformat": 4,
 "nbformat_minor": 2
}
