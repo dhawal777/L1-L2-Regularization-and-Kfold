{
 "cells": [
  {
   "cell_type": "code",
   "execution_count": 428,
   "metadata": {},
   "outputs": [],
   "source": [
    "import numpy as np\n",
    "import pandas as pd\n",
    "from sklearn.preprocessing import LabelEncoder,OneHotEncoder\n",
    "import sklearn as sk\n",
    "from sklearn.model_selection import train_test_split\n",
    "from sklearn.metrics import r2_score,mean_squared_error,mean_absolute_error\n",
    "from pylab import *\n",
    "import matplotlib\n",
    "import matplotlib.pyplot as plt\n",
    "from sklearn.linear_model import Ridge\n",
    "import copy"
   ]
  },
  {
   "cell_type": "code",
   "execution_count": 429,
   "metadata": {},
   "outputs": [],
   "source": [
    "df=pd.read_csv(\"AdmissionDataset/data.csv\")\n",
    "df\n",
    "X =df.drop(['Chance of Admit ','Serial No.'],axis=1)\n",
    "y=df['Chance of Admit ']\n"
   ]
  },
  {
   "cell_type": "markdown",
   "metadata": {},
   "source": [
    "*Standardizing consists in subtracting the mean and dividing by the standard deviation.*\n",
    "*The convention that you standardize predictions primarily exists so that the units of the regression coefficients are the same.*\n",
    "*when value are largely diffrent one is population and some other attribute is fraction*"
   ]
  },
  {
   "cell_type": "code",
   "execution_count": 430,
   "metadata": {},
   "outputs": [],
   "source": [
    "X = (X - X.mean())/X.std()#normalize the data(z-mu)/(sigma)\n",
    "# y=(y-y.mean())/y.std()\n",
    "#kyuki actual y ke paas pahuchna hai isliye ,jhe y ko normalize karne ka koi reason nahi lag raha"
   ]
  },
  {
   "cell_type": "code",
   "execution_count": 431,
   "metadata": {},
   "outputs": [],
   "source": [
    "X_train, X_test, y_train, y_test = train_test_split(X, y, test_size=0.2)\n",
    "features=['GRE Score','TOEFL Score','University Rating','SOP','LOR ','CGPA','Research']\n",
    "my_data=pd.concat([X_train,y_train],axis=1)"
   ]
  },
  {
   "cell_type": "code",
   "execution_count": 432,
   "metadata": {},
   "outputs": [],
   "source": [
    "X=X_train"
   ]
  },
  {
   "cell_type": "code",
   "execution_count": 433,
   "metadata": {},
   "outputs": [],
   "source": [
    "ones = np.ones([X.shape[0],1])\n"
   ]
  },
  {
   "cell_type": "code",
   "execution_count": 434,
   "metadata": {},
   "outputs": [],
   "source": [
    "X = np.concatenate((ones,X),axis=1)\n"
   ]
  },
  {
   "cell_type": "markdown",
   "metadata": {},
   "source": [
    "*values converts it from pandas.core.frame.DataFrame to numpy.ndarray*"
   ]
  },
  {
   "cell_type": "code",
   "execution_count": 435,
   "metadata": {},
   "outputs": [],
   "source": [
    "y\n",
    "y=pd.DataFrame(y_train)\n",
    "y=y.values"
   ]
  },
  {
   "cell_type": "markdown",
   "metadata": {},
   "source": [
    "*basically assumed m=0 and c=0 for each independent variable intially*"
   ]
  },
  {
   "cell_type": "markdown",
   "metadata": {},
   "source": [
    "*learning rate needed along with direction*"
   ]
  },
  {
   "cell_type": "code",
   "execution_count": 436,
   "metadata": {},
   "outputs": [],
   "source": [
    "alpha = 0.01"
   ]
  },
  {
   "cell_type": "code",
   "execution_count": 437,
   "metadata": {},
   "outputs": [],
   "source": [
    "def meanSquareError(y_true, y_pred): \n",
    "    y_true, y_pred = np.array(y_true), np.array(y_pred)\n",
    "    return np.mean(np.square((y_true - y_pred)))"
   ]
  },
  {
   "cell_type": "markdown",
   "metadata": {},
   "source": [
    "*no of times we have to iterate to minimize rms*"
   ]
  },
  {
   "cell_type": "code",
   "execution_count": 438,
   "metadata": {},
   "outputs": [],
   "source": [
    "iters = 10000\n",
    "lamda=1000\n",
    "itr=0\n",
    "lam=[]\n",
    "error_list=[]\n",
    "cost=[]"
   ]
  },
  {
   "cell_type": "code",
   "execution_count": 439,
   "metadata": {},
   "outputs": [],
   "source": [
    "# print(X_train)"
   ]
  },
  {
   "cell_type": "code",
   "execution_count": 440,
   "metadata": {},
   "outputs": [],
   "source": [
    "lam=[]\n",
    "error_list=[]\n",
    "preverror=10000000000000\n",
    "ans=lamda\n",
    "flag=0\n",
    "\n",
    "while lamda>0.000000000000000001:\n",
    "    y_pred=[]\n",
    "    lam.append(lamda)\n",
    "    ridgereg = Ridge(alpha=lamda)\n",
    "    ridgereg.fit(X_train,y_train)\n",
    "    lamda=lamda/10\n",
    "    y_pred = ridgereg.predict(X_test)\n",
    "    error_list.append((1-r2_score(y_test, y_pred)))\n",
    "    \n",
    "    if (1-r2_score(y_test, y_pred)) < preverror:\n",
    "        ans=lamda*10\n",
    "        \n",
    "    preverror=(1-r2_score(y_test, y_pred))"
   ]
  },
  {
   "cell_type": "code",
   "execution_count": 441,
   "metadata": {},
   "outputs": [
    {
     "name": "stdout",
     "output_type": "stream",
     "text": [
      "ans  1.0000000000000002e-13\n"
     ]
    }
   ],
   "source": [
    "print(\"ans \",ans)"
   ]
  },
  {
   "cell_type": "code",
   "execution_count": 442,
   "metadata": {},
   "outputs": [
    {
     "name": "stdout",
     "output_type": "stream",
     "text": [
      "[1000, 100.0, 10.0, 1.0, 0.1, 0.01, 0.001, 0.0001, 1e-05, 1.0000000000000002e-06, 1.0000000000000002e-07, 1.0000000000000002e-08, 1.0000000000000003e-09, 1.0000000000000003e-10, 1.0000000000000003e-11, 1.0000000000000002e-12, 1.0000000000000002e-13, 1.0000000000000002e-14, 1e-15, 1.0000000000000001e-16, 1e-17]\n"
     ]
    },
    {
     "data": {
      "text/plain": [
       "Text(0.5, 1.0, 'Lamda vs Error')"
      ]
     },
     "execution_count": 442,
     "metadata": {},
     "output_type": "execute_result"
    },
    {
     "data": {
      "image/png": "[encoded data removed]",
      "text/plain": [
       "<Figure size 432x288 with 1 Axes>"
      ]
     },
     "metadata": {
      "needs_background": "light"
     },
     "output_type": "display_data"
    }
   ],
   "source": [
    "fig, ax = plt.subplots()\n",
    "print(lam)\n",
    "ax.plot(lam,error_list)\n",
    "ax.set_xlabel(\"Lamda\", fontsize=10)\n",
    "ax.set_ylabel(\"Error\", fontsize=10)\n",
    "ax.set_title('Lamda vs Error')"
   ]
  },
  {
   "cell_type": "code",
   "execution_count": 443,
   "metadata": {},
   "outputs": [],
   "source": [
    "def gradientDescent(X,y,theta,iters,alpha,lamda):\n",
    "    for i in range(iters):\n",
    "        theta1=copy.deepcopy(theta)\n",
    "        theta1[0][0]=0\n",
    "        theta = theta - (alpha/len(X)) * (np.sum(X * (X @ theta.T - y), axis=0)+(theta1*lamda))\n",
    "    return theta"
   ]
  },
  {
   "cell_type": "code",
   "execution_count": 444,
   "metadata": {},
   "outputs": [],
   "source": [
    "iters = 10000\n",
    "lamda=1000\n",
    "itr=0\n",
    "lam=[]\n",
    "error_list=[]\n",
    "cost=[]"
   ]
  },
  {
   "cell_type": "code",
   "execution_count": 445,
   "metadata": {},
   "outputs": [],
   "source": [
    "# print(X)"
   ]
  },
  {
   "cell_type": "code",
   "execution_count": 446,
   "metadata": {},
   "outputs": [],
   "source": [
    "preverror=10000000000000\n",
    "ans=lamda\n",
    "flag=0\n",
    "while lamda>0.000000000000000001:\n",
    "    theta = np.zeros([1,8])\n",
    "    lam.append(lamda)\n",
    "    g = gradientDescent(X,y,theta,iters,alpha,lamda)\n",
    "    lamda=lamda/10\n",
    "    betaList=g[0]\n",
    "    y_pred1=[]\n",
    "    ones=np.ones([X_test.shape[0],1])\n",
    "    X_tr2 = np.concatenate((ones,X_test),axis=1)\n",
    "    y_pred1=X_tr2@betaList\n",
    "    error_list.append((1-r2_score(y_test, y_pred1)))    \n",
    "    if (1-r2_score(y_test, y_pred1)) < preverror:\n",
    "        ans=lamda*10\n",
    "    preverror=1-r2_score(y_test, y_pred1)"
   ]
  },
  {
   "cell_type": "markdown",
   "metadata": {},
   "source": [
    "*Calculated Theta List*"
   ]
  },
  {
   "cell_type": "code",
   "execution_count": 447,
   "metadata": {},
   "outputs": [
    {
     "name": "stdout",
     "output_type": "stream",
     "text": [
      "ans  1.0000000000000002e-13\n"
     ]
    }
   ],
   "source": [
    "print(\"ans \",ans)"
   ]
  },
  {
   "cell_type": "code",
   "execution_count": 448,
   "metadata": {},
   "outputs": [
    {
     "name": "stdout",
     "output_type": "stream",
     "text": [
      "[1000, 100.0, 10.0, 1.0, 0.1, 0.01, 0.001, 0.0001, 1e-05, 1.0000000000000002e-06, 1.0000000000000002e-07, 1.0000000000000002e-08, 1.0000000000000003e-09, 1.0000000000000003e-10, 1.0000000000000003e-11, 1.0000000000000002e-12, 1.0000000000000002e-13, 1.0000000000000002e-14, 1e-15, 1.0000000000000001e-16, 1e-17]\n"
     ]
    },
    {
     "data": {
      "text/plain": [
       "Text(0.5, 1.0, 'Lamda vs Error')"
      ]
     },
     "execution_count": 448,
     "metadata": {},
     "output_type": "execute_result"
    },
    {
     "data": {
      "image/png": "[encoded data removed]",
      "text/plain": [
       "<Figure size 432x288 with 1 Axes>"
      ]
     },
     "metadata": {
      "needs_background": "light"
     },
     "output_type": "display_data"
    }
   ],
   "source": [
    "fig, ax = plt.subplots()\n",
    "print(lam)\n",
    "ax.plot(lam,error_list)\n",
    "ax.set_xlabel(\"Lamda\", fontsize=10)\n",
    "ax.set_ylabel(\"Error\", fontsize=10)\n",
    "ax.set_title('Lamda vs Error')"
   ]
  },
  {
   "cell_type": "code",
   "execution_count": 449,
   "metadata": {
    "scrolled": true
   },
   "outputs": [
    {
     "data": {
      "text/plain": [
       "[0.307814503619543,\n",
       " 0.19526484907210895,\n",
       " 0.1835743651426458,\n",
       " 0.18162832357540504,\n",
       " 0.18141624527525435,\n",
       " 0.18139484540060502,\n",
       " 0.1813927034747811,\n",
       " 0.18139248926279694,\n",
       " 0.18139246784140461,\n",
       " 0.18139246569926337,\n",
       " 0.18139246548504917,\n",
       " 0.18139246546362775,\n",
       " 0.18139246546148569,\n",
       " 0.18139246546127152,\n",
       " 0.1813924654612501,\n",
       " 0.181392465461248,\n",
       " 0.18139246546124776,\n",
       " 0.18139246546124776,\n",
       " 0.18139246546124776,\n",
       " 0.18139246546124776,\n",
       " 0.18139246546124776]"
      ]
     },
     "execution_count": 449,
     "metadata": {},
     "output_type": "execute_result"
    }
   ],
   "source": [
    "error_list"
   ]
  }
 ],
 "metadata": {
  "kernelspec": {
   "display_name": "Python 3",
   "language": "python",
   "name": "python3"
  },
  "language_info": {
   "codemirror_mode": {
    "name": "ipython",
    "version": 3
   },
   "file_extension": ".py",
   "mimetype": "text/x-python",
   "name": "python",
   "nbconvert_exporter": "python",
   "pygments_lexer": "ipython3",
   "version": "3.6.7"
  }
 },
 "nbformat": 4,
 "nbformat_minor": 2
}
